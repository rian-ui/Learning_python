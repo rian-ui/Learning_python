{
 "metadata": {
  "language_info": {
   "codemirror_mode": {
    "name": "ipython",
    "version": 3
   },
   "file_extension": ".py",
   "mimetype": "text/x-python",
   "name": "python",
   "nbconvert_exporter": "python",
   "pygments_lexer": "ipython3",
   "version": "3.9.5"
  },
  "orig_nbformat": 2,
  "kernelspec": {
   "name": "python395jvsc74a57bd0ac59ebe37160ed0dfa835113d9b8498d9f09ceb179beaac4002f036b9467c963",
   "display_name": "Python 3.9.5 64-bit"
  },
  "metadata": {
   "interpreter": {
    "hash": "ac59ebe37160ed0dfa835113d9b8498d9f09ceb179beaac4002f036b9467c963"
   }
  }
 },
 "nbformat": 4,
 "nbformat_minor": 2,
 "cells": [
  {
   "source": [
    "\"\"\"   Tipe Data pada Python - Numbers, String, dan Boolean    \"\"\"\n",
    "\n",
    "#Numbers (int, float, complex)\n",
    "c = 1+3j\n",
    "print(c, \" Bertipe bilangan kompleks? \", isinstance(1+3j,complex),              type(c))\n",
    "#Strings\n",
    "#Bool/Boolean\n",
    "print()\n",
    "\n",
    "\n",
    "\"\"\"  Tipe Data pada Python - List, Slicing, Tuple, Set, dan Dictionary  \"\"\"\n",
    "\n",
    "#List\n",
    "y = [5,10,15,20,25,99,35,40,'python'] \n",
    "y[5]= 25\n",
    "print(y[1:7:2], 'bisa juga', y[5:-1])\n",
    "del y[8]\n",
    "y.append('berubah')\n",
    "print(y,'\\n')\n",
    "\n",
    "#Tuple\n",
    "t = (5,'program', 1)\n",
    "print(t[1],'\\n')\n",
    "\n",
    "#Set\n",
    "a = {1,2,2,3,3,3}\n",
    "print(a,'\\n') #tidak bisa slicing\n",
    "\n",
    "#Dictionary\n",
    "d = {1:'value','key':2}\n",
    "print(d['key'],type(d))\n",
    "\n",
    "#Konversi (conversion, cast) antar tipe data \n",
    "# int(), float(), str(), set(), tuple(), dict()\n",
    "\n"
   ],
   "cell_type": "code",
   "metadata": {},
   "execution_count": null,
   "outputs": []
  },
  {
   "source": [
    "\"\"\"  Input/Output pada Python  \"\"\" \n",
    "#Memasukkan nilai variabel pada string\n",
    "nama = \"Dicoding\" ; umur = 5\n",
    "print(\"nama %s adalah %d tahun.\" %(nama, umur))\n",
    "print(eval('90+10'))    ;print()\n",
    "\n",
    "\"\"\"\n",
    "            Beberapa argument specifier yang umum digunakan:    \n",
    "                %s         - String\n",
    "                %d         - Integers\n",
    "                %f         - Bilangan Desimal\n",
    "                %.<digit>f - Bilangan desimal dengan sejumlah digit                                 angka dibelakang koma.\n",
    "                %x/%X      - Bilangan bulat dalam representasi Hexa                                 (huruf kecil/huruf besar)\n",
    "\"\"\"\n",
    "\n",
    "#Command-line arguments\n",
    "\n",
    "\n",
    "\"\"\" Dynamic Typing pada Python \"\"\"\n",
    "#Duck Typing\n",
    "\n",
    "\"\"\" Transformasi Angka, Karakter dan String \"\"\"\n",
    "#Mengubah Huruf Besar/Kecil \n",
    "kata = 'dicoding'; print(kata.upper()); print(kata.lower())    ;print()\n",
    "\n",
    "#Awalan dan Akhiran\n",
    "print('Dicoding    '.rstrip())\n",
    "print('    Dicoding'.lstrip())\n",
    "kata = '  Dicoding  ';  print(kata.strip(''))\n",
    "\n",
    "#Awalan dan Akhiran\n",
    "print('Dicoding Indonesia'.startswith('Dicoding'))\n",
    "print('Dicoding Indonesia'.endswith('Indonesia'))\n",
    "print()\n",
    "\n",
    "#Memisah dan Menggabung String\n",
    "print('-'.join(['Dicoding', 'Indonesia', '!']))\n",
    "print('Dicoding-Indonesia-!'.split('-'))\n",
    "print()\n",
    "\n",
    "#Mengganti Elemen String\n",
    "string = \"Ayo belajar Coding\" ; print(string.replace(\"Coding\", \"Pemrograman\"))\n",
    "print()\n",
    "\n",
    "#Pengecekan String\n",
    "kata = \"DICODING\" ; print(\n",
    "    kata.isupper() , kata.islower() ,\n",
    "    kata.isalpha() , kata.isalnum() , kata.isdecimal() ,\n",
    "    kata.isspace() , kata.istitle() , '\\n')\n",
    "\n",
    "\n",
    "#Formatting pada String\n",
    "kata = 'aku3'\n",
    "print (kata.zfill(6));\n",
    "print()\n",
    "\n",
    "  #Teks rata kanan/kiri/tengah\n",
    "kata.rjust(20); kata.rjust(20); kata.ljust(20, '!'); kata.center(20, '-')\n",
    "\n",
    "#String Literals\n",
    "st1 = 'Jum\\'at'\n",
    "\n",
    "\"\"\"\n",
    "                    \\' Single quote\n",
    "                    \\\" Double quote\n",
    "                    \\t Tab\n",
    "                    \\n Newline (line break)\n",
    "                    \\\\ Backslash\n",
    "\"\"\"\n",
    "print()\n",
    "\n",
    "\n",
    "\"\"\"   Operasi pada List, Set, dan String   \"\"\" \n",
    "angka = [1, 3, 3, 9,4] #bisa juga untuk list, set, string\n",
    "print(len(angka))\n",
    "print(\"minimal : \",min(angka), \"maksimal : \",max(angka))\n",
    "print(angka.count(3))\n",
    "huruf = ['P', 'Y', 'T']\n",
    "gabung = angka + huruf; print('gabungan :',gabung)\n",
    "replikasi = gabung * 2 ; print(\"replikasi\",replikasi)\n",
    "for i in range(1, 5): print(i) #ada yg 3 parameter juga\n",
    "print()\n",
    "\n",
    "#in dan not in\n",
    "kalimat = \"Belajar Python di Dicoding sangat menyenangkan\"\n",
    "print('Dicoding' in kalimat) ; print('tidak' not in kalimat) \n",
    "print()\n",
    "\n",
    "#Memberikan nilai untuk multiple variable\n",
    "data = ['shirt', 'white', 'L'] # bisa dari lisat maupun tuple\n",
    "apparel, color, size = data ; print(apparel)\n",
    "\n",
    "angka = [100, 1000, 500, 200, 5]\n",
    "angka.sort() #bisa menggunakan metode (key=str.lower)\n",
    "print(angka) #akan diurutkan berdasarkan ASCII , ga boleh ada angka                  dan string bersamaan\n",
    "print()\n",
    "\n",
    "\"\"\"   Operator, Operands, dan Expressions   \"\"\"\n",
    "#Jenis-jenis operator\n",
    "\n",
    "#Penggunaan le, lt, gt, ge, eq, ne\n",
    "\n",
    "#Boolean Operator (not, and, or)\n",
    "\n",
    "#Urutan matematis dalam melakukan evaluasi\n",
    "\"\"\"\n",
    "Lambda expression, Conditional expression, Boolean, Comparisons, \n",
    "Bitwise, Shifts, Addition and subtraction,   dll\n",
    "\"\"\"\n",
    "print()"
   ],
   "cell_type": "code",
   "metadata": {},
   "execution_count": 83,
   "outputs": [
    {
     "output_type": "stream",
     "name": "stdout",
     "text": [
      "nama Dicoding adalah 5 tahun.\n100\n\nDICODING\ndicoding\n\nDicoding\nDicoding\n  Dicoding  \nTrue\nTrue\n\nDicoding-Indonesia-!\n['Dicoding', 'Indonesia', '!']\n\nAyo belajar Pemrograman\n\nTrue False True True False False False \n\n00aku3\n\n\n5\nminimal :  1 maksimal :  9\n2\ngabungan : [1, 3, 3, 9, 4, 'P', 'Y', 'T']\nreplikasi [1, 3, 3, 9, 4, 'P', 'Y', 'T', 1, 3, 3, 9, 4, 'P', 'Y', 'T']\n1\n2\n3\n4\n\nTrue\nTrue\n\nshirt\n[5, 100, 200, 500, 1000]\n\n"
     ]
    },
    {
     "output_type": "execute_result",
     "data": {
      "text/plain": [
       "'\\nLambda expression, Conditional expression, Boolean, Comparisons, \\nBitwise, Shifts, Addition and subtraction,   dll\\n'"
      ]
     },
     "metadata": {},
     "execution_count": 83
    }
   ]
  },
  {
   "cell_type": "code",
   "execution_count": 84,
   "metadata": {},
   "outputs": [
    {
     "output_type": "stream",
     "name": "stdout",
     "text": [
      "Hasilnya 10666\n"
     ]
    }
   ],
   "source": [
    "a = 6\n",
    "b = 4\n",
    "print(\"Hasilnya \" + str (a + b) + \"6\" * 3)"
   ]
  },
  {
   "cell_type": "code",
   "execution_count": 2,
   "metadata": {},
   "outputs": [
    {
     "output_type": "error",
     "ename": "TypeError",
     "evalue": "'set' object is not subscriptable",
     "traceback": [
      "\u001b[1;31m---------------------------------------------------------------------------\u001b[0m",
      "\u001b[1;31mTypeError\u001b[0m                                 Traceback (most recent call last)",
      "\u001b[1;32m<ipython-input-2-2e7c042c3dcd>\u001b[0m in \u001b[0;36m<module>\u001b[1;34m\u001b[0m\n\u001b[0;32m      1\u001b[0m \u001b[0ma\u001b[0m \u001b[1;33m=\u001b[0m \u001b[1;33m{\u001b[0m\u001b[1;36m1\u001b[0m\u001b[1;33m,\u001b[0m\u001b[1;36m2\u001b[0m\u001b[1;33m,\u001b[0m\u001b[1;36m2\u001b[0m\u001b[1;33m,\u001b[0m\u001b[1;36m3\u001b[0m\u001b[1;33m,\u001b[0m\u001b[1;36m3\u001b[0m\u001b[1;33m,\u001b[0m\u001b[1;36m3\u001b[0m\u001b[1;33m}\u001b[0m\u001b[1;33m\u001b[0m\u001b[1;33m\u001b[0m\u001b[0m\n\u001b[1;32m----> 2\u001b[1;33m \u001b[0ma\u001b[0m\u001b[1;33m[\u001b[0m\u001b[1;36m3\u001b[0m\u001b[1;33m]\u001b[0m\u001b[1;33m\u001b[0m\u001b[1;33m\u001b[0m\u001b[0m\n\u001b[0m",
      "\u001b[1;31mTypeError\u001b[0m: 'set' object is not subscriptable"
     ]
    }
   ],
   "source": [
    "a = {1,2,2,3,3,3}\n",
    "a[3]"
   ]
  },
  {
   "cell_type": "code",
   "execution_count": 4,
   "metadata": {},
   "outputs": [
    {
     "output_type": "stream",
     "name": "stdout",
     "text": [
      "[10, 15]\n"
     ]
    }
   ],
   "source": [
    "x = [10,15,20,25,30]\n",
    "print(x[:-3])"
   ]
  },
  {
   "cell_type": "code",
   "execution_count": null,
   "metadata": {},
   "outputs": [],
   "source": []
  }
 ]
}